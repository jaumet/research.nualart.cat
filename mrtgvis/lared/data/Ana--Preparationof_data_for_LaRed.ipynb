{
 "cells": [
  {
   "cell_type": "code",
   "execution_count": 17,
   "metadata": {},
   "outputs": [
    {
     "name": "stdout",
     "output_type": "stream",
     "text": [
      "-12.0463731\n",
      "-77.042754\n"
     ]
    }
   ],
   "source": [
    "import requests\n",
    "response = requests.get('https://maps.googleapis.com/maps/api/geocode/json?address=Lima,+Peru')\n",
    "resp_json_payload = response.json()\n",
    "out = resp_json_payload['results'][0]['geometry']['location']\n",
    "#print out['lat'],out['lng']\n",
    "print out['lat']\n",
    "print out['lng']"
   ]
  },
  {
   "cell_type": "code",
   "execution_count": 29,
   "metadata": {},
   "outputs": [],
   "source": [
    "def getLatLng(L):\n",
    "    latlng = {}\n",
    "    response = requests.get('https://maps.googleapis.com/maps/api/geocode/json?address='+L.replace(\" \",\"+\"))\n",
    "    resp_json_payload = response.json()\n",
    "    out = resp_json_payload['results'][0]['geometry']['location']\n",
    "    latlng[\"lat\"] = out['lat']\n",
    "    latlng[\"lng\"] = out['lng']\n",
    "    return latlng"
   ]
  },
  {
   "cell_type": "code",
   "execution_count": 31,
   "metadata": {},
   "outputs": [
    {
     "data": {
      "text/plain": [
       "40.7127753"
      ]
     },
     "execution_count": 31,
     "metadata": {},
     "output_type": "execute_result"
    }
   ],
   "source": [
    "getLatLng(\"New York, USA\")[\"lat\"]"
   ]
  },
  {
   "cell_type": "code",
   "execution_count": 32,
   "metadata": {},
   "outputs": [
    {
     "data": {
      "text/plain": [
       "-74.0059728"
      ]
     },
     "execution_count": 32,
     "metadata": {},
     "output_type": "execute_result"
    }
   ],
   "source": [
    "getLatLng(\"New York, USA\")[\"lng\"]"
   ]
  },
  {
   "cell_type": "code",
   "execution_count": 33,
   "metadata": {},
   "outputs": [
    {
     "data": {
      "text/plain": [
       "{'lat': -3.7436735, 'lng': -73.25163260000001}"
      ]
     },
     "execution_count": 33,
     "metadata": {},
     "output_type": "execute_result"
    }
   ],
   "source": [
    "getLatLng(\"Iquitos, Peru\")"
   ]
  },
  {
   "cell_type": "code",
   "execution_count": 34,
   "metadata": {},
   "outputs": [
    {
     "data": {
      "text/plain": [
       "{'lat': -9.189967, 'lng': -75.015152}"
      ]
     },
     "execution_count": 34,
     "metadata": {},
     "output_type": "execute_result"
    }
   ],
   "source": [
    "getLatLng(\"Peru\")"
   ]
  },
  {
   "cell_type": "code",
   "execution_count": 35,
   "metadata": {},
   "outputs": [
    {
     "data": {
      "text/plain": [
       "{'lat': -9.189967, 'lng': -75.015152}"
      ]
     },
     "execution_count": 35,
     "metadata": {},
     "output_type": "execute_result"
    }
   ],
   "source": [
    "getLatLng(\"Peru\")"
   ]
  },
  {
   "cell_type": "code",
   "execution_count": null,
   "metadata": {},
   "outputs": [],
   "source": []
  }
 ],
 "metadata": {
  "kernelspec": {
   "display_name": "Python 2",
   "language": "python",
   "name": "python2"
  },
  "language_info": {
   "codemirror_mode": {
    "name": "ipython",
    "version": 2
   },
   "file_extension": ".py",
   "mimetype": "text/x-python",
   "name": "python",
   "nbconvert_exporter": "python",
   "pygments_lexer": "ipython2",
   "version": "2.7.12"
  }
 },
 "nbformat": 4,
 "nbformat_minor": 2
}
